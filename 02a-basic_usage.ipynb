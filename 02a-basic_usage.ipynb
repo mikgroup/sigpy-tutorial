{
 "cells": [
  {
   "cell_type": "markdown",
   "metadata": {},
   "source": [
    "In this notebook, you will:\n",
    "- learn a few signal processing functions in SigPy\n",
    "- learn how to change computing device from CPU to GPU\n",
    "\n",
    "https://sigpy.readthedocs.io/en/latest/core.html"
   ]
  },
  {
   "cell_type": "code",
   "execution_count": 1,
   "metadata": {
    "collapsed": true
   },
   "outputs": [],
   "source": [
    "%matplotlib notebook\n",
    "import numpy as np\n",
    "import sigpy as sp"
   ]
  },
  {
   "cell_type": "markdown",
   "metadata": {},
   "source": [
    "# Centered FFT"
   ]
  },
  {
   "cell_type": "code",
   "execution_count": 2,
   "metadata": {},
   "outputs": [
    {
     "name": "stdout",
     "output_type": "stream",
     "text": [
      "x = \n",
      "[1. 1. 1. 1.]\n",
      "\n",
      "y = \n",
      "[0.+0.j 0.+0.j 2.+0.j 0.+0.j]\n",
      "\n"
     ]
    }
   ],
   "source": [
    "x = np.array([1, 1, 1, 1], np.float)\n",
    "y = sp.fft(x, center=True)\n",
    "\n",
    "print('x = \\n{}\\n'.format(x))\n",
    "print('y = \\n{}\\n'.format(y))"
   ]
  },
  {
   "cell_type": "markdown",
   "metadata": {},
   "source": [
    "# NUFFT"
   ]
  },
  {
   "cell_type": "code",
   "execution_count": 9,
   "metadata": {},
   "outputs": [
    {
     "name": "stdout",
     "output_type": "stream",
     "text": [
      "x = \n",
      "[1. 1. 1. 1.]\n",
      "\n",
      "y = \n",
      "[-1.19305942e-03-2.77555756e-17j  6.84182704e-04-4.49735772e-03j\n",
      "  2.00461478e+00+0.00000000e+00j  6.84182704e-04+4.49735772e-03j]\n",
      "\n"
     ]
    }
   ],
   "source": [
    "x = np.array([1, 1, 1, 1], np.float)\n",
    "coord = np.array([[-2], [-1], [0], [1]])\n",
    "y = sp.nufft(x, coord)\n",
    "\n",
    "print('x = \\n{}\\n'.format(x))\n",
    "print('y = \\n{}\\n'.format(y))"
   ]
  },
  {
   "cell_type": "markdown",
   "metadata": {},
   "source": [
    "# Convolution"
   ]
  },
  {
   "cell_type": "code",
   "execution_count": 4,
   "metadata": {},
   "outputs": [
    {
     "name": "stdout",
     "output_type": "stream",
     "text": [
      "x = \n",
      "[1. 1. 0. 0.]\n",
      "\n",
      "h = \n",
      "[1. 1.]\n",
      "\n",
      "y = \n",
      "[ 1.00000000e+00  2.00000000e+00  1.00000000e+00 -5.55111512e-17\n",
      "  1.11022302e-16]\n",
      "\n"
     ]
    }
   ],
   "source": [
    "x = np.array([1, 1, 0, 0], np.float)\n",
    "h = np.array([1, 1], np.float)\n",
    "y = sp.convolve(x, h)\n",
    "\n",
    "print('x = \\n{}\\n'.format(x))\n",
    "print('h = \\n{}\\n'.format(h))\n",
    "print('y = \\n{}\\n'.format(y))"
   ]
  },
  {
   "cell_type": "code",
   "execution_count": 5,
   "metadata": {},
   "outputs": [
    {
     "name": "stdout",
     "output_type": "stream",
     "text": [
      "x = \n",
      "[1. 1. 0. 0.]\n",
      "\n",
      "h = \n",
      "[[ 1.  1.]\n",
      " [ 1. -1.]]\n",
      "\n",
      "y = \n",
      "[[ 1.00000000e+00  2.00000000e+00  1.00000000e+00 -5.55111512e-17\n",
      "   1.11022302e-16]\n",
      " [ 1.00000000e+00  0.00000000e+00 -1.00000000e+00  5.55111512e-17\n",
      "  -5.55111512e-17]]\n",
      "\n"
     ]
    }
   ],
   "source": [
    "x = np.array([1, 1, 0, 0], np.float)\n",
    "h = np.array([[1, 1], [1, -1]], np.float)\n",
    "y = sp.convolve(x, h, output_multi_channel=True)\n",
    "\n",
    "print('x = \\n{}\\n'.format(x))\n",
    "print('h = \\n{}\\n'.format(h))\n",
    "print('y = \\n{}\\n'.format(y))"
   ]
  },
  {
   "cell_type": "markdown",
   "metadata": {},
   "source": [
    "# Using GPU"
   ]
  },
  {
   "cell_type": "code",
   "execution_count": 6,
   "metadata": {},
   "outputs": [
    {
     "ename": "ModuleNotFoundError",
     "evalue": "No module named 'cupy'",
     "output_type": "error",
     "traceback": [
      "\u001b[0;31m---------------------------------------------------------------------------\u001b[0m",
      "\u001b[0;31mModuleNotFoundError\u001b[0m                       Traceback (most recent call last)",
      "\u001b[0;32m<ipython-input-6-ac0ddbdb8c91>\u001b[0m in \u001b[0;36m<module>\u001b[0;34m()\u001b[0m\n\u001b[0;32m----> 1\u001b[0;31m \u001b[0;32mimport\u001b[0m \u001b[0mcupy\u001b[0m \u001b[0;32mas\u001b[0m \u001b[0mcp\u001b[0m\u001b[0;34m\u001b[0m\u001b[0m\n\u001b[0m",
      "\u001b[0;31mModuleNotFoundError\u001b[0m: No module named 'cupy'"
     ]
    }
   ],
   "source": [
    "import cupy as cp"
   ]
  },
  {
   "cell_type": "code",
   "execution_count": null,
   "metadata": {
    "collapsed": true
   },
   "outputs": [],
   "source": [
    "x = cp.array([1, 1, 1, 1], np.float)\n",
    "y = sp.fft(x, center=True)\n",
    "\n",
    "print('x = \\n{}\\n'.format(x))\n",
    "print('y = \\n{}\\n'.format(y))"
   ]
  },
  {
   "cell_type": "code",
   "execution_count": 7,
   "metadata": {},
   "outputs": [
    {
     "ename": "ValueError",
     "evalue": "cupy not installed, but set device 1.",
     "output_type": "error",
     "traceback": [
      "\u001b[0;31m---------------------------------------------------------------------------\u001b[0m",
      "\u001b[0;31mValueError\u001b[0m                                Traceback (most recent call last)",
      "\u001b[0;32m<ipython-input-7-c8a9b1ebb01d>\u001b[0m in \u001b[0;36m<module>\u001b[0;34m()\u001b[0m\n\u001b[1;32m      1\u001b[0m \u001b[0mdevice_id\u001b[0m \u001b[0;34m=\u001b[0m \u001b[0;36m1\u001b[0m\u001b[0;34m\u001b[0m\u001b[0m\n\u001b[0;32m----> 2\u001b[0;31m \u001b[0;32mwith\u001b[0m \u001b[0msp\u001b[0m\u001b[0;34m.\u001b[0m\u001b[0mDevice\u001b[0m\u001b[0;34m(\u001b[0m\u001b[0mdevice_id\u001b[0m\u001b[0;34m)\u001b[0m\u001b[0;34m:\u001b[0m\u001b[0;34m\u001b[0m\u001b[0m\n\u001b[0m\u001b[1;32m      3\u001b[0m     \u001b[0mx\u001b[0m \u001b[0;34m=\u001b[0m \u001b[0mcp\u001b[0m\u001b[0;34m.\u001b[0m\u001b[0marray\u001b[0m\u001b[0;34m(\u001b[0m\u001b[0;34m[\u001b[0m\u001b[0;36m1\u001b[0m\u001b[0;34m,\u001b[0m \u001b[0;36m1\u001b[0m\u001b[0;34m,\u001b[0m \u001b[0;36m1\u001b[0m\u001b[0;34m,\u001b[0m \u001b[0;36m1\u001b[0m\u001b[0;34m]\u001b[0m\u001b[0;34m,\u001b[0m \u001b[0mnp\u001b[0m\u001b[0;34m.\u001b[0m\u001b[0mfloat\u001b[0m\u001b[0;34m)\u001b[0m\u001b[0;34m\u001b[0m\u001b[0m\n\u001b[1;32m      4\u001b[0m     \u001b[0my\u001b[0m \u001b[0;34m=\u001b[0m \u001b[0msp\u001b[0m\u001b[0;34m.\u001b[0m\u001b[0mfft\u001b[0m\u001b[0;34m(\u001b[0m\u001b[0mx\u001b[0m\u001b[0;34m,\u001b[0m \u001b[0mcenter\u001b[0m\u001b[0;34m=\u001b[0m\u001b[0;32mTrue\u001b[0m\u001b[0;34m)\u001b[0m\u001b[0;34m\u001b[0m\u001b[0m\n\u001b[1;32m      5\u001b[0m \u001b[0;34m\u001b[0m\u001b[0m\n",
      "\u001b[0;32m~/workspace/sigpy/sigpy/backend.py\u001b[0m in \u001b[0;36m__init__\u001b[0;34m(self, id_or_device)\u001b[0m\n\u001b[1;32m     53\u001b[0m                 \u001b[0mself\u001b[0m\u001b[0;34m.\u001b[0m\u001b[0mcpdevice\u001b[0m \u001b[0;34m=\u001b[0m \u001b[0mcp\u001b[0m\u001b[0;34m.\u001b[0m\u001b[0mcuda\u001b[0m\u001b[0;34m.\u001b[0m\u001b[0mDevice\u001b[0m\u001b[0;34m(\u001b[0m\u001b[0mid\u001b[0m\u001b[0;34m)\u001b[0m\u001b[0;34m\u001b[0m\u001b[0m\n\u001b[1;32m     54\u001b[0m             \u001b[0;32melse\u001b[0m\u001b[0;34m:\u001b[0m\u001b[0;34m\u001b[0m\u001b[0m\n\u001b[0;32m---> 55\u001b[0;31m                 \u001b[0;32mraise\u001b[0m \u001b[0mValueError\u001b[0m\u001b[0;34m(\u001b[0m\u001b[0;34m'cupy not installed, but set device {}.'\u001b[0m\u001b[0;34m.\u001b[0m\u001b[0mformat\u001b[0m\u001b[0;34m(\u001b[0m\u001b[0mid\u001b[0m\u001b[0;34m)\u001b[0m\u001b[0;34m)\u001b[0m\u001b[0;34m\u001b[0m\u001b[0m\n\u001b[0m\u001b[1;32m     56\u001b[0m \u001b[0;34m\u001b[0m\u001b[0m\n\u001b[1;32m     57\u001b[0m         \u001b[0mself\u001b[0m\u001b[0;34m.\u001b[0m\u001b[0mid\u001b[0m \u001b[0;34m=\u001b[0m \u001b[0mid\u001b[0m\u001b[0;34m\u001b[0m\u001b[0m\n",
      "\u001b[0;31mValueError\u001b[0m: cupy not installed, but set device 1."
     ]
    }
   ],
   "source": [
    "device_id = 1\n",
    "with sp.Device(device_id):\n",
    "    x = cp.array([1, 1, 1, 1], np.float)\n",
    "    y = sp.fft(x, center=True)\n",
    "    \n",
    "    print('x = \\n{}\\n'.format(x))\n",
    "    print('y = \\n{}\\n'.format(y))"
   ]
  },
  {
   "cell_type": "code",
   "execution_count": null,
   "metadata": {
    "collapsed": true
   },
   "outputs": [],
   "source": [
    "device = sp.get_device(x)\n",
    "\n",
    "print('device is {}', device)"
   ]
  },
  {
   "cell_type": "code",
   "execution_count": null,
   "metadata": {
    "collapsed": true
   },
   "outputs": [],
   "source": [
    "device = sp.Device(0)\n",
    "xp = device.xp\n",
    "print('xp is {}'.format(xp))"
   ]
  },
  {
   "cell_type": "markdown",
   "metadata": {
    "collapsed": true
   },
   "source": [
    "![device](https://sigpy.readthedocs.io/en/latest/_images/device.pdf)"
   ]
  },
  {
   "cell_type": "code",
   "execution_count": null,
   "metadata": {
    "collapsed": true
   },
   "outputs": [],
   "source": []
  }
 ],
 "metadata": {
  "kernelspec": {
   "display_name": "Python 3",
   "language": "python",
   "name": "python3"
  },
  "language_info": {
   "codemirror_mode": {
    "name": "ipython",
    "version": 3
   },
   "file_extension": ".py",
   "mimetype": "text/x-python",
   "name": "python",
   "nbconvert_exporter": "python",
   "pygments_lexer": "ipython3",
   "version": "3.6.8"
  }
 },
 "nbformat": 4,
 "nbformat_minor": 2
}
